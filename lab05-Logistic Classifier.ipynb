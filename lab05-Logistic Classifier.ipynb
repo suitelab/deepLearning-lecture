{
 "cells": [
  {
   "cell_type": "markdown",
   "metadata": {
    "collapsed": true
   },
   "source": [
    "# Logistic Hypothesis\n",
    "\n",
    "## sigmoid\n",
    "\n",
    "$\n",
    "g(z) = \\frac{1}{(1 + e^{-z})}\n",
    "$\n",
    "\n",
    "## Logistic Hypothesis\n",
    "$\n",
    "H(X) = \\frac{1}{1 + e^{-W^{T}X}}\n",
    "$\n",
    "\n",
    "## New Cost function for logistic\n",
    "$\n",
    "cost(W) = \\frac{1}{m}\\sum_{i=1}^{m}c(H(x),y)\n",
    "$  \n",
    "\n",
    "$\n",
    "c(H(x),y) = \\left(\\begin{array}{c} -log(H(x)) : y = 1 \\\\ -log(1 - H(x)) : y = 0 \\end{array}\\right)\n",
    "$\n",
    "\n",
    "y == 1:  \n",
    "H(x) = 1 -> -log(z) = 0  \n",
    "H(x) = 0 -> -log(z) = infinity\n",
    "\n",
    "y == 0:  \n",
    "H(x) = 0 -> -log(1 - z) = 0  \n",
    "H(x) = 1 -> -log(1 - z) = infinity\n",
    "\n",
    "$\n",
    "c(H(x),y) = -ylog(H(x))-(1-y)log(1 - H(x))\n",
    "$\n",
    "\n",
    "\n",
    "$\n",
    "cost(W) = -\\frac{1}{m}\\sum_{i=1}^{m}ylog(H(x))-(1-y)log(1 - H(x))\n",
    "$\n",
    "\n",
    "```python\n",
    "cost = tf.reduce_mean(-tf.reduce_sum(Y*tf.log(hypothesis) + (1-Y)*tf.log(1-hypothesis)))\n",
    "```\n",
    "\n",
    "## 미분\n",
    "\n",
    "$\n",
    "W := W - a\\frac{a}{aW}cost(W)\n",
    "$\n",
    "\n",
    "```python\n",
    "a = tf.Variable(0.1)\n",
    "optimizer = tf.train.GradientDescentOptimizer(a)\n",
    "train = optimizer.minimize(cost)\n",
    "```\n"
   ]
  },
  {
   "cell_type": "code",
   "execution_count": null,
   "metadata": {
    "collapsed": true
   },
   "outputs": [],
   "source": []
  }
 ],
 "metadata": {
  "kernelspec": {
   "display_name": "Python 3",
   "language": "python",
   "name": "python3"
  },
  "language_info": {
   "codemirror_mode": {
    "name": "ipython",
    "version": 3
   },
   "file_extension": ".py",
   "mimetype": "text/x-python",
   "name": "python",
   "nbconvert_exporter": "python",
   "pygments_lexer": "ipython3",
   "version": "3.6.1"
  }
 },
 "nbformat": 4,
 "nbformat_minor": 2
}
